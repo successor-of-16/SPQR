{
 "metadata": {
  "language_info": {
   "codemirror_mode": {
    "name": "ipython",
    "version": 3
   },
   "file_extension": ".py",
   "mimetype": "text/x-python",
   "name": "python",
   "nbconvert_exporter": "python",
   "pygments_lexer": "ipython3",
   "version": "3.8.5-final"
  },
  "orig_nbformat": 2,
  "kernelspec": {
   "name": "sagemath",
   "display_name": "SageMath 9.1"
  }
 },
 "nbformat": 4,
 "nbformat_minor": 2,
 "cells": [
  {
   "source": [
    "# 3519\n",
    "Задача со звёздочкой: научить sage считать замену в PDE\n",
    "\n",
    "Задача с двуя звёздочками: не сделать замечаний по поводу PEP 8"
   ],
   "cell_type": "markdown",
   "metadata": {}
  },
  {
   "cell_type": "code",
   "execution_count": 1,
   "metadata": {},
   "outputs": [
    {
     "output_type": "execute_result",
     "data": {
      "text/latex": "$\\displaystyle - \\frac{4 w_{uv} x^{2} - 4 w_{uv} + z \\sqrt[4]{1 - x^{2}}}{4 \\sqrt[4]{1 - x^{2}} \\left(x^{2} - 1\\right)} = 0$",
      "text/plain": [
       "Eq(-(4*w_uv*x**2 - 4*w_uv + z*(1 - x**2)**(1/4))/(4*(1 - x**2)**(1/4)*(x**2 - 1)), 0)"
      ]
     },
     "metadata": {},
     "execution_count": 1
    }
   ],
   "source": [
    "x, y, z, w_u, w_v, w_uu, w_uv, w_vv = var('x, y, z, w_u, w_v, w_uu, w_uv, w_vv')\n",
    "u = (y + arccos(x))/2\n",
    "v = (y - arccos(x))/2\n",
    "u_x = u.diff(x)\n",
    "u_y = u.diff(y)\n",
    "v_x = v.diff(x)\n",
    "v_y = v.diff(y)\n",
    "c = (1 - x^2)^(1/4)\n",
    "w = c*z\n",
    "z_x = (w_u*u_x + w_v*v_x - w.diff(x))/w.diff(z)\n",
    "z_xx = (w_u*u_x + w_v*v_x - c.diff(x)*z)*(1/c).diff(x) + (w_uu*u_x^2 + 2*w_uv*u_x*v_x + w_vv*v_x^2 + w_u*u.diff(x, x) + w_v*v.diff(x, x)-c.diff(x, x)*z-c.diff(x)*z_x)/c\n",
    "z_yy = (w_uu*u_y^2 + 2*w_uv*u_y*v_y + w_vv*v_y^2)/c\n",
    "((1-x^2)*z_xx - z_yy - 2*x*z_x - z/4 == 0).full_simplify()._sympy_()"
   ]
  },
  {
   "source": [
    "В общем, всё приводится к ответу в задачнике, а я накосячил"
   ],
   "cell_type": "markdown",
   "metadata": {}
  }
 ]
}