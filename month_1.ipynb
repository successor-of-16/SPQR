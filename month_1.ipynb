{
 "metadata": {
  "language_info": {
   "codemirror_mode": {
    "name": "ipython",
    "version": 3
   },
   "file_extension": ".py",
   "mimetype": "text/x-python",
   "name": "python",
   "nbconvert_exporter": "python",
   "pygments_lexer": "ipython3",
   "version": "3.8.5-final"
  },
  "orig_nbformat": 2,
  "kernelspec": {
   "name": "sagemath-vscode",
   "display_name": "SageMath 9.2 for VSCode",
   "language": "python"
  }
 },
 "nbformat": 4,
 "nbformat_minor": 2,
 "cells": [
  {
   "source": [
    "# Задача 7"
   ],
   "cell_type": "markdown",
   "metadata": {}
  },
  {
   "cell_type": "code",
   "execution_count": 1,
   "metadata": {},
   "outputs": [
    {
     "output_type": "execute_result",
     "data": {
      "text/plain": [
       "Multivariate Polynomial Ring in x, y, z over Rational Field"
      ]
     },
     "metadata": {},
     "execution_count": 1
    }
   ],
   "source": [
    "R.<x, y, z> = PolynomialRing(QQ, order='lex')\n",
    "R"
   ]
  },
  {
   "cell_type": "code",
   "execution_count": 8,
   "metadata": {},
   "outputs": [
    {
     "output_type": "execute_result",
     "data": {
      "text/plain": [
       "[x^2 - 1, x*y - y, x*z + z, y*z]"
      ]
     },
     "metadata": {},
     "execution_count": 8
    }
   ],
   "source": [
    "I1 = Ideal([x^2-1, x*y-y, x*z+z])\n",
    "I1.groebner_basis()"
   ]
  },
  {
   "cell_type": "code",
   "execution_count": 3,
   "metadata": {},
   "outputs": [
    {
     "output_type": "execute_result",
     "data": {
      "text/plain": [
       "[x^2 - 1, x*y - y, x*z - z]"
      ]
     },
     "metadata": {},
     "execution_count": 3
    }
   ],
   "source": [
    "I2 = Ideal([x^2-1, x*y-y, x*z-z])\n",
    "I2.groebner_basis()"
   ]
  },
  {
   "cell_type": "code",
   "execution_count": 4,
   "metadata": {},
   "outputs": [
    {
     "output_type": "execute_result",
     "data": {
      "text/plain": [
       "[x^2*y - y, x*z + z, y^2 + 1/2*z, z^2 + 1/2*z]"
      ]
     },
     "metadata": {},
     "execution_count": 4
    }
   ],
   "source": [
    "I3 = Ideal([x*y^2-z-z^2, x^2*y-y, y^2-z^2])\n",
    "I3.groebner_basis()"
   ]
  },
  {
   "source": [
    "А если поле характеристики 2?"
   ],
   "cell_type": "markdown",
   "metadata": {}
  },
  {
   "cell_type": "code",
   "execution_count": 5,
   "metadata": {},
   "outputs": [
    {
     "output_type": "execute_result",
     "data": {
      "text/plain": [
       "Multivariate Polynomial Ring in x, y, z over Ring of integers modulo 2"
      ]
     },
     "metadata": {},
     "execution_count": 5
    }
   ],
   "source": [
    "R2.<x, y, z> = PolynomialRing(Zmod(2), order='lex')\n",
    "R2"
   ]
  },
  {
   "cell_type": "code",
   "execution_count": 6,
   "metadata": {},
   "outputs": [
    {
     "output_type": "execute_result",
     "data": {
      "text/plain": [
       "[x^2*y + y, y^2, z]"
      ]
     },
     "metadata": {},
     "execution_count": 6
    }
   ],
   "source": [
    "I31 = Ideal([x*y^2-z-z^2, x^2*y-y, y^2-z^2])\n",
    "I31.groebner_basis()"
   ]
  },
  {
   "source": [
    "# Задача 8"
   ],
   "cell_type": "markdown",
   "metadata": {}
  },
  {
   "cell_type": "code",
   "execution_count": 7,
   "metadata": {},
   "outputs": [
    {
     "output_type": "execute_result",
     "data": {
      "text/plain": [
       "Multivariate Polynomial Ring in x, y, z over Complex Field with 53 bits of precision"
      ]
     },
     "metadata": {},
     "execution_count": 7
    }
   ],
   "source": [
    "R2.<x, y, z> = PolynomialRing(CC, order='lex')\n",
    "R2"
   ]
  },
  {
   "cell_type": "code",
   "execution_count": 8,
   "metadata": {},
   "outputs": [
    {
     "output_type": "execute_result",
     "data": {
      "text/plain": [
       "[x - z^2 + z, y + (-2.00000000000000)*z^3 + z^2, z^4 - z^2]"
      ]
     },
     "metadata": {},
     "execution_count": 8
    }
   ],
   "source": [
    "I1 = Ideal([y*z-x-z+x*z, x*y-y+z^2+x*z^2, z-z^2+x])\n",
    "I1.groebner_basis()"
   ]
  },
  {
   "source": [
    "$z^4-z^2 = 0 \\Rightarrow z=0, \\pm 1$\n",
    "\n",
    "$y-2z^3+z^2 = 0 \\Rightarrow (x1, 0, 0), (x2, 1, 1), (x3, -3, -1)$\n",
    "\n",
    "$x-z^2+z \\Rightarrow (0, 0, 0), (0, 1, 1), (2, -3, -1)$"
   ],
   "cell_type": "markdown",
   "metadata": {}
  },
  {
   "cell_type": "code",
   "execution_count": 9,
   "metadata": {},
   "outputs": [
    {
     "output_type": "execute_result",
     "data": {
      "text/plain": [
       "[x + 4.00000000000000*z - 1.00000000000000, y + 2.00000000000000*z - 1.50000000000000, z^2 + (-1.25000000000000)*z + 0.500000000000000]"
      ]
     },
     "metadata": {},
     "execution_count": 9
    }
   ],
   "source": [
    "I2 = Ideal([x*z-2*y+1, y*z-1+z, y*z+x*y*z+z])\n",
    "I2.groebner_basis()"
   ]
  },
  {
   "cell_type": "code",
   "execution_count": 10,
   "metadata": {},
   "outputs": [
    {
     "output_type": "execute_result",
     "data": {
      "text/plain": [
       "[[x == 1/2*I*sqrt(7) - 3/2, y == 1/4*I*sqrt(7) + 1/4, z == -1/8*I*sqrt(7) + 5/8], [x == -1/2*I*sqrt(7) - 3/2, y == -1/4*I*sqrt(7) + 1/4, z == 1/8*I*sqrt(7) + 5/8]]"
      ]
     },
     "metadata": {},
     "execution_count": 10
    }
   ],
   "source": [
    "x, y, z = var('x, y, z')\n",
    "solve([x + 4.00000000000000*z - 1.00000000000000 == 0, y + 2.00000000000000*z - 1.50000000000000 == 0, z^2 + (-1.25000000000000)*z + 0.500000000000000 == 0], x, y, z)"
   ]
  },
  {
   "source": [
    "$(- \\frac{3}{2} \\pm i\\frac{1}{2}\\sqrt{7}, \\frac{1}{4} \\pm i\\frac{1}{4}\\sqrt{7}, \\frac{5}{8} \\mp i\\frac{1}{8}\\sqrt{7})$"
   ],
   "cell_type": "markdown",
   "metadata": {}
  },
  {
   "source": [
    "На самом деле идеал третьей системы уже посчитан"
   ],
   "cell_type": "markdown",
   "metadata": {}
  },
  {
   "cell_type": "code",
   "execution_count": 11,
   "metadata": {},
   "outputs": [
    {
     "output_type": "execute_result",
     "data": {
      "text/plain": [
       "[[x == r1, y == 0, z == 0], [x == -1, y == (-1/2), z == (-1/2)], [x == -1, y == (1/2), z == (-1/2)]]"
      ]
     },
     "metadata": {},
     "execution_count": 11
    }
   ],
   "source": [
    "solve([x^2*y - y == 0, x*z + z, y^2 + 1/2*z == 0, z^2 + 1/2*z == 0], x, y, z)"
   ]
  },
  {
   "source": [
    "$(r_1, 0, 0)$, $r_1$ $-$ произвольное\n",
    "\n",
    "$(-1, -\\frac{1}{2}, -\\frac{1}{2})$\n",
    "\n",
    "$(-1, \\frac{1}{2}, -\\frac{1}{2})$"
   ],
   "cell_type": "markdown",
   "metadata": {}
  }
 ]
}